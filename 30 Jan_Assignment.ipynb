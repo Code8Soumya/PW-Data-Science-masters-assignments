{
 "cells": [
  {
   "cell_type": "markdown",
   "id": "5eaf2a26-81ac-4246-8357-d58cb4acf6f3",
   "metadata": {},
   "source": [
    "Q1. Write a program to accept percentage from the user and display the grade according to the following criteria\n"
   ]
  },
  {
   "cell_type": "code",
   "execution_count": 1,
   "id": "e206bc22-408f-4c10-bec9-3a8cbc9421da",
   "metadata": {},
   "outputs": [
    {
     "name": "stdin",
     "output_type": "stream",
     "text": [
      "Enter Your Marks  95\n"
     ]
    },
    {
     "name": "stdout",
     "output_type": "stream",
     "text": [
      "A\n"
     ]
    }
   ],
   "source": [
    "\n",
    "marks = int(input(\"Enter Your Marks \"))\n",
    "\n",
    "if marks > 90 :\n",
    "    print(\"A\")\n",
    "elif marks > 80 and marks <=90 :\n",
    "    print(\"B\")\n",
    "elif marks >= 60 and marks <= 80 :\n",
    "    print(\"C\")\n",
    "else :\n",
    "    marks < 60\n",
    "    print(\"D\")"
   ]
  },
  {
   "cell_type": "markdown",
   "id": "32682e9e-77d7-4844-ab7e-6fb5a70ab2fc",
   "metadata": {},
   "source": [
    "Q2. write a program to accept the cost price of a bike and display the road tax t be paid according to the following criteria"
   ]
  },
  {
   "cell_type": "code",
   "execution_count": 3,
   "id": "a59b89b9-4871-4c3f-b583-2a1b4f88c3a7",
   "metadata": {},
   "outputs": [
    {
     "name": "stdin",
     "output_type": "stream",
     "text": [
      "what is price of bike 50000\n"
     ]
    },
    {
     "name": "stdout",
     "output_type": "stream",
     "text": [
      "5%\n"
     ]
    }
   ],
   "source": [
    "cost_price = int(input(\"what is price of bike\"))\n",
    "if cost_price > 100000 :\n",
    "    print(\"15%\")\n",
    "elif cost_price > 50000 and cost_price <= 100000 :\n",
    "    print(\"10%\")\n",
    "else :\n",
    "    cost_price <= 50000 \n",
    "    print(\"5%\")"
   ]
  },
  {
   "cell_type": "markdown",
   "id": "0f7ac9f3-fe9e-4119-9113-73a552611fcf",
   "metadata": {},
   "source": [
    "Q3. Accept any city from the user and display monuments of that city "
   ]
  },
  {
   "cell_type": "code",
   "execution_count": 13,
   "id": "61ebd85b-cb26-4df3-9abf-efa7788739e4",
   "metadata": {},
   "outputs": [
    {
     "name": "stdin",
     "output_type": "stream",
     "text": [
      "Enter The City Name Agra\n"
     ]
    },
    {
     "name": "stdout",
     "output_type": "stream",
     "text": [
      "Taj Mahal\n"
     ]
    }
   ],
   "source": [
    "City = str(input(\"Enter The City Name\"))\n",
    "if City == \"Delhi\" :\n",
    "    print(\"Read Fort\")\n",
    "elif City == \"Agra\" :\n",
    "    print(\"Taj Mahal\")\n",
    "elif City == \"jaipur\" :\n",
    "    print(\"Jal Mahal\")\n",
    "elif City == \"Aurangabad\" :\n",
    "    print(\"Bibi Ka Maqbara\")\n",
    "else : \n",
    "    print(\"Enter valid city name\")"
   ]
  },
  {
   "cell_type": "markdown",
   "id": "4d1028a3-6910-4fe9-a818-d5e09f08cab8",
   "metadata": {},
   "source": [
    "Q4.Check how many ties a given number can be divided by 3 before it is less than or equal to 10"
   ]
  },
  {
   "cell_type": "code",
   "execution_count": 1,
   "id": "5b491e61-c043-4618-93cd-92ab2b0147fe",
   "metadata": {},
   "outputs": [
    {
     "name": "stdin",
     "output_type": "stream",
     "text": [
      "Enter a number:  5\n"
     ]
    },
    {
     "name": "stdout",
     "output_type": "stream",
     "text": [
      "The number can be divided by 3 0 times before it is less than or equal to 10.\n"
     ]
    }
   ],
   "source": [
    "number = int(input(\"Enter a number: \"))\n",
    "count = 0\n",
    "\n",
    "while number > 10:\n",
    "    number /= 3\n",
    "    count += 1\n",
    "\n",
    "print(\"The number can be divided by 3\", count, \"times before it is less than or equal to 10.\")\n"
   ]
  },
  {
   "cell_type": "markdown",
   "id": "f68f27cb-38f6-4829-926c-659ece8addf6",
   "metadata": {},
   "source": [
    "Q5.why and when to use wile loop in python give a detailed description with example \n",
    "--> A while loop is a type of loop in Python that allows us to repeatedly execute a block of code as long as a specified condition is true. The condition is checked at the beginning of each iteration, and the loop continues to run until the condition is no longer true.\n",
    "\n",
    "The while loop is useful when we want to repeatedly execute a block of code until a specific condition is met. For example, we can use a while loop to repeatedly prompt the user for input until they enter a valid input. We can also use a while loop to repeatedly perform calculations or operations until a certain result is achieved.\n",
    "For example, here is a while loop that calculates the factorial of a given number:\n",
    "\n",
    "number = int(input(\"Enter a positive integer: \"))\n",
    "factorial = 1\n",
    "\n",
    "while number > 0:\n",
    "    factorial *= number\n",
    "    number -= 1\n",
    "\n",
    "print(\"The factorial of\", number, \"is\", factorial)\n",
    "\n"
   ]
  },
  {
   "cell_type": "markdown",
   "id": "b58c603f-c3d7-446e-98b2-5f34eb2727e1",
   "metadata": {},
   "source": [
    "Q.6 Use Nested While loop to print 3 diffrent pattern"
   ]
  },
  {
   "cell_type": "code",
   "execution_count": 6,
   "id": "adac5cc0-84ea-4890-86f9-856643d4490e",
   "metadata": {},
   "outputs": [
    {
     "name": "stdout",
     "output_type": "stream",
     "text": [
      "1 \n",
      "2 2 \n",
      "3 3 3 \n",
      "4 4 4 4 \n",
      "5 5 5 5 5 \n",
      "6 6 6 6 6 6 \n"
     ]
    }
   ],
   "source": [
    "n = 6\n",
    "i = 1\n",
    "\n",
    "while i <= n:\n",
    "    j = 1\n",
    "    while j <= i:\n",
    "        print(i, end=' ')\n",
    "        j += 1\n",
    "    print()\n",
    "    i += 1\n"
   ]
  },
  {
   "cell_type": "markdown",
   "id": "a7027982-1ae4-4dff-8ae3-73c00bfaa24e",
   "metadata": {},
   "source": [
    "Pattern 2:"
   ]
  },
  {
   "cell_type": "code",
   "execution_count": 9,
   "id": "3129bc27-e5a9-4e09-8604-2a1b368a1fcd",
   "metadata": {},
   "outputs": [
    {
     "name": "stdout",
     "output_type": "stream",
     "text": [
      "* \n",
      "* * \n",
      "* * * \n",
      "* * * * \n",
      "* * * * * \n"
     ]
    }
   ],
   "source": [
    "n = 5\n",
    "i = 1\n",
    "\n",
    "while i <= n:\n",
    "    j = 1\n",
    "    while j <= i:\n",
    "        print('*', end=' ')\n",
    "        j += 1\n",
    "    print()\n",
    "    i += 1\n"
   ]
  },
  {
   "cell_type": "markdown",
   "id": "38e24a59-56ab-4026-a144-6ea442255259",
   "metadata": {},
   "source": [
    "Pattern 3:"
   ]
  },
  {
   "cell_type": "code",
   "execution_count": 4,
   "id": "052b2e67-d11f-46a7-9ad5-91fd6a60abc4",
   "metadata": {},
   "outputs": [
    {
     "name": "stdout",
     "output_type": "stream",
     "text": [
      "1 \n",
      "1 2 \n",
      "1 2 3 \n",
      "1 2 3 4 \n",
      "1 2 3 4 5 \n"
     ]
    }
   ],
   "source": [
    "n = 5\n",
    "i = 1\n",
    "\n",
    "while i <= n:\n",
    "    j = 1\n",
    "    while j <= i:\n",
    "        print(j, end=' ')\n",
    "        j += 1\n",
    "    print()\n",
    "    i += 1\n"
   ]
  },
  {
   "cell_type": "markdown",
   "id": "f3aee1c1-958c-4444-afd6-aa209a9c9ec9",
   "metadata": {},
   "source": [
    "Q7. Reverse a while loop to display numbers from 10 to 1"
   ]
  },
  {
   "cell_type": "code",
   "execution_count": 11,
   "id": "8744737e-fa86-427c-ad00-16aca0cf5ccc",
   "metadata": {},
   "outputs": [
    {
     "name": "stdout",
     "output_type": "stream",
     "text": [
      "10\n",
      "9\n",
      "8\n",
      "7\n",
      "6\n",
      "5\n",
      "4\n",
      "3\n",
      "2\n",
      "1\n"
     ]
    }
   ],
   "source": [
    "n = 10\n",
    "while n >= 1:\n",
    "    print(n)\n",
    "    n -= 1\n"
   ]
  },
  {
   "cell_type": "code",
   "execution_count": null,
   "id": "99e0ced5-180a-47f6-92f7-4d77fdac3e13",
   "metadata": {},
   "outputs": [],
   "source": []
  },
  {
   "cell_type": "code",
   "execution_count": null,
   "id": "4092aa12-0868-4f34-9e81-9885cafd47fd",
   "metadata": {},
   "outputs": [],
   "source": []
  }
 ],
 "metadata": {
  "kernelspec": {
   "display_name": "Python 3 (ipykernel)",
   "language": "python",
   "name": "python3"
  },
  "language_info": {
   "codemirror_mode": {
    "name": "ipython",
    "version": 3
   },
   "file_extension": ".py",
   "mimetype": "text/x-python",
   "name": "python",
   "nbconvert_exporter": "python",
   "pygments_lexer": "ipython3",
   "version": "3.10.8"
  }
 },
 "nbformat": 4,
 "nbformat_minor": 5
}
