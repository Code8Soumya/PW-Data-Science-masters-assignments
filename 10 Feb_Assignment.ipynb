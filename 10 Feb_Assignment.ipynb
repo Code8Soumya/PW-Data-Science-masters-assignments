{
 "cells": [
  {
   "cell_type": "markdown",
   "id": "7f524c3c-a307-4078-8021-84af8b642902",
   "metadata": {},
   "source": [
    "Q1. Which function is used to open a file? What are the different modes of opening a file? Explain each mode\n",
    "of file opening. \n"
   ]
  },
  {
   "cell_type": "markdown",
   "id": "a49caed4-baff-4d56-bd15-746a1877d95b",
   "metadata": {},
   "source": [
    "\n",
    "--->  In most programming languages, the function used to open a file is typically called open().\n",
    "\n",
    "When opening a file, you can specify different modes based on how you intend to use the file. The modes determine whether you want to read, write, or append to the file, and also whether you want to create a new file if it doesn't exist. The common modes for file opening are:\n",
    "\n",
    "Read mode ('r'): This mode allows you to read the contents of an existing file. If the file doesn't exist, an error is raised.\n",
    "\n",
    "Write mode ('w'): This mode is used to create a new file for writing. If a file with the same name already exists, its contents will be truncated (deleted) before writing to it. If the file doesn't exist, a new file will be created.\n",
    "\n",
    "Append mode ('a'): This mode is used to open a file for appending data at the end. If the file doesn't exist, a new file will be created. Existing content is preserved, and new data is added to the end of the file.\n",
    "\n",
    "Read and Write mode ('r+'): This mode allows you to read and write to an existing file. The file pointer is initially at the beginning of the file.\n",
    "\n",
    "Write and Read mode ('w+'): This mode is similar to 'r+', but it also creates a new file for writing if it doesn't exist.\n",
    "\n",
    "Append and Read mode ('a+'): This mode is similar to 'r+', but it also creates a new file for appending if it doesn't exist."
   ]
  },
  {
   "cell_type": "markdown",
   "id": "37f57501-1aac-4727-86eb-ded2b8c635df",
   "metadata": {},
   "source": [
    "Q2. Why close() function is used? Why is it important to close a file?"
   ]
  },
  {
   "cell_type": "markdown",
   "id": "8cbc7e21-849d-4454-9fab-de8126d0de9e",
   "metadata": {},
   "source": [
    "\n",
    "\n",
    "---> The close() function is used to close an opened file in programming languages that require explicit file handling, such as Python.\n",
    "\n",
    "It is important to close a file after you have finished using it for several reasons:\n",
    "\n",
    "Resource management: When you open a file, the operating system allocates certain resources to handle the file operations, such as memory buffers and file descriptors. If you don't close the file, these resources may not be released immediately, leading to resource leaks. Closing the file ensures that these resources are properly released, preventing potential issues like running out of system resources.\n",
    "\n",
    "Data integrity: Closing a file ensures that all the data you have written to or read from the file is flushed or saved to the underlying storage. If you don't close the file and terminate the program abruptly, some data may remain buffered in memory and not be permanently written to the file. Closing the file guarantees that the data is properly written and the file is in a consistent state.\n",
    "\n",
    "Access by other processes: By closing the file, you release any locks or restrictions that your program may have placed on the file. This allows other processes or programs to access the file without conflicts. Failing to close a file might result in other processes being unable to open or modify the file until it is closed."
   ]
  },
  {
   "cell_type": "markdown",
   "id": "2a0c007d-4cf1-4eff-a080-f904781fbae2",
   "metadata": {},
   "source": [
    "Q3. Write a python program to create a text file. Write ‘I want to become a Data Scientist’ in that file. Then\n",
    "close the file. Open this file and read the content of the file."
   ]
  },
  {
   "cell_type": "code",
   "execution_count": 8,
   "id": "e2b2c195-d13e-4c91-813b-2ff31e5c939e",
   "metadata": {},
   "outputs": [
    {
     "name": "stdout",
     "output_type": "stream",
     "text": [
      "I want to become a Data Scientist\n"
     ]
    }
   ],
   "source": [
    "\n",
    "file_name = 'data_scientist.txt'\n",
    "content = 'I want to become a Data Scientist'\n",
    "\n",
    "\n",
    "file = open(file_name, 'w')\n",
    "\n",
    "\n",
    "file.write(content)\n",
    "\n",
    "\n",
    "file.close()\n",
    "\n",
    "\n",
    "file = open(file_name, 'r')\n",
    "file_content = file.read()\n",
    "\n",
    "# Print the content\n",
    "print(file_content)\n",
    "\n",
    "\n",
    "file.close()\n"
   ]
  },
  {
   "cell_type": "markdown",
   "id": "a14a3329-c5a6-48a8-b783-be1c0e264ac5",
   "metadata": {},
   "source": [
    "Q4. Explain the following with python code: read(), readline() and readlines()."
   ]
  },
  {
   "cell_type": "markdown",
   "id": "42cfe61a-da80-413e-a28f-9480193b881b",
   "metadata": {},
   "source": [
    "---> In Python, read(), readline(), and readlines() are methods that can be used to read data from a file.\n",
    "read(): The read() method is used to read the entire contents of a file as a single string. It reads from the current position of the file pointer until the end of the file. Here's an example:"
   ]
  },
  {
   "cell_type": "code",
   "execution_count": 25,
   "id": "b532af8d-a97f-4728-a981-a0deb7aca634",
   "metadata": {},
   "outputs": [
    {
     "name": "stdout",
     "output_type": "stream",
     "text": [
      "I want to become a Data Scientist\n"
     ]
    }
   ],
   "source": [
    "\n",
    "with open('data_scientist.txt', 'r') as file:\n",
    "    content = file.read()\n",
    "\n",
    "print(content)\n"
   ]
  },
  {
   "cell_type": "markdown",
   "id": "759d84f6-cf40-4a39-94aa-e1487b824257",
   "metadata": {},
   "source": [
    "readline(): The readline() method is used to read a single line from a file. It reads from the current position of the file pointer until it encounters a newline character (\\n) or reaches the end of the file."
   ]
  },
  {
   "cell_type": "code",
   "execution_count": 26,
   "id": "de1447ae-2600-47e4-a970-5252888686ab",
   "metadata": {},
   "outputs": [
    {
     "name": "stdout",
     "output_type": "stream",
     "text": [
      "I want to become a Data Scientist\n"
     ]
    }
   ],
   "source": [
    "# Open the file in read mode\n",
    "file = open('data_scientist.txt', 'r')\n",
    "\n",
    "# Read the first line of the file\n",
    "line = file.readline()\n",
    "\n",
    "# Print the line\n",
    "print(line)\n",
    "\n",
    "# Close the file\n",
    "file.close()\n"
   ]
  },
  {
   "cell_type": "markdown",
   "id": "d94f15aa-ec48-4029-9e31-e05986b093c6",
   "metadata": {},
   "source": [
    "readlines(): The readlines() method is used to read all the lines of a file and return them as a list of strings. Each line is treated as a separate element in the list. Here's an example:"
   ]
  },
  {
   "cell_type": "code",
   "execution_count": 28,
   "id": "eb0532e3-6ed4-43d8-a911-248aecf18206",
   "metadata": {},
   "outputs": [
    {
     "name": "stdout",
     "output_type": "stream",
     "text": [
      "I want to become a Data Scientist\n"
     ]
    }
   ],
   "source": [
    "# Open the file in read mode\n",
    "file = open('data_scientist.txt', 'r')\n",
    "\n",
    "# Read all the lines of the file\n",
    "lines = file.readlines()\n",
    "\n",
    "# Print each line\n",
    "for line in lines:\n",
    "    print(line)\n",
    "\n",
    "# Close the file\n",
    "file.close()\n"
   ]
  },
  {
   "cell_type": "markdown",
   "id": "bfa0a99d-d734-40c8-a0f9-49b223508c4a",
   "metadata": {},
   "source": [
    "Q5. Explain why with statement is used with open(). What is the advantage of using with statement and\n",
    "open() together? \n"
   ]
  },
  {
   "cell_type": "markdown",
   "id": "a00a8e00-3222-4578-8ecd-65a18be43ca8",
   "metadata": {},
   "source": [
    "\n",
    "---> The with statement in Python is used in conjunction with the open() function to ensure proper handling of resources, such as files, and to provide automatic cleanup or closing of the resources. The advantage of using the with statement with open() is as follows:\n",
    "\n",
    "Automatic cleanup: When a file is opened using open() within a with statement, the file is automatically closed at the end of the block, regardless of whether an exception occurs or not. This ensures that the file is properly closed, even in the event of an error or an exception being raised during file handling\n",
    "Simplified code: Using the with statement makes the code more concise and readable.\n",
    "Exception handling: The with statement also provides a convenient way to handle exceptions. If an exception occurs within the with block, the file will still be closed automatically, preventing any potential issues caused by leaving the file open"
   ]
  },
  {
   "cell_type": "markdown",
   "id": "a1b8c11f-a06c-4028-b393-834e9599231f",
   "metadata": {},
   "source": [
    "Q6. Explain the write() and writelines() functions. Give a suitable example."
   ]
  },
  {
   "cell_type": "markdown",
   "id": "dd1de961-65c1-4cff-9279-fe0705de0476",
   "metadata": {},
   "source": [
    "---> write(): The write() function is used to write a string of data to a file. It appends the specified string to the end of the file, or overwrites the existing content if the file already exists"
   ]
  },
  {
   "cell_type": "code",
   "execution_count": 31,
   "id": "96240a51-9b89-4cf6-a277-ef5cecdede58",
   "metadata": {},
   "outputs": [],
   "source": [
    "\n",
    "file = open('data_scientist.txt', 'w')\n",
    "\n",
    "e\n",
    "file.write('Hello, World!\\n')\n",
    "file.write('This is a sample file.')\n",
    "\n",
    "# Close the file\n",
    "file.close()\n"
   ]
  },
  {
   "cell_type": "markdown",
   "id": "e32ba434-d8ae-4ba1-b66e-e4cc5296bb7d",
   "metadata": {},
   "source": [
    "writelines(): The writelines() function is used to write a list of strings to a file. Each string in the list corresponds to a separate line in the file.\n"
   ]
  },
  {
   "cell_type": "code",
   "execution_count": 32,
   "id": "82da8518-21ad-49b0-8026-bcd5aa59f49a",
   "metadata": {},
   "outputs": [],
   "source": [
    "# Open the file in write mode\n",
    "file = open('example.txt', 'w')\n",
    "\n",
    "# Prepare a list of strings\n",
    "lines = ['Line 1\\n', 'Line 2\\n', 'Line 3\\n']\n",
    "\n",
    "# Write the lines to the file\n",
    "file.writelines(lines)\n",
    "\n",
    "# Close the file\n",
    "file.close()\n"
   ]
  },
  {
   "cell_type": "code",
   "execution_count": null,
   "id": "215f2e6b-0f35-4e9b-869d-7918d37f3356",
   "metadata": {},
   "outputs": [],
   "source": []
  }
 ],
 "metadata": {
  "kernelspec": {
   "display_name": "Python 3 (ipykernel)",
   "language": "python",
   "name": "python3"
  },
  "language_info": {
   "codemirror_mode": {
    "name": "ipython",
    "version": 3
   },
   "file_extension": ".py",
   "mimetype": "text/x-python",
   "name": "python",
   "nbconvert_exporter": "python",
   "pygments_lexer": "ipython3",
   "version": "3.10.8"
  }
 },
 "nbformat": 4,
 "nbformat_minor": 5
}
