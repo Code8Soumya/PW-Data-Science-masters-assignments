{
 "cells": [
  {
   "cell_type": "markdown",
   "id": "890039bd-af4f-4dba-af15-b813c50a8db7",
   "metadata": {},
   "source": [
    "Q1. What is an Exception in python? Write the difference between Exceptions and Syntax errors.\n"
   ]
  },
  {
   "cell_type": "markdown",
   "id": "c8b07c93-d736-47c8-93bf-20e338fdc061",
   "metadata": {},
   "source": [
    "---> \n",
    "    An exception is an event that occurs during the execution of a program, disrupting the normal flow of the program's instructions. When an exception is raised, the program jumps to a specific code block called an exception handler that can handle the exception and prevent the program from terminating abruptly.\n",
    "\n",
    "The main difference between exceptions and syntax errors is as follows:\n",
    "\n",
    "Exceptions occur during the runtime of a program, while syntax errors are detected by the Python interpreter before the program starts running.\n",
    "\n",
    "Syntax errors are caused by violations of the Python language syntax rules, such as misspelled keywords or incorrect indentation. These errors prevent the program from being compiled or interpreted.\n",
    "\n",
    "Exceptions, on the other hand, occur when the program is running and encounters an unforeseen condition or situation that it cannot handle, such as dividing by zero or accessing an undefined variable.\n",
    "\n",
    "Syntax errors need to be fixed before the program can be executed, while exceptions can be handled and recovered from within the program using exception handling mechanisms like try-except blocks.|"
   ]
  },
  {
   "cell_type": "markdown",
   "id": "f8a2143f-7893-4073-b181-03d525403333",
   "metadata": {},
   "source": [
    "Q2. What happens when an exception is not handled? Explain with an example."
   ]
  },
  {
   "cell_type": "markdown",
   "id": "90e5865b-854e-4b10-8296-17dc875ddd2f",
   "metadata": {},
   "source": [
    " When an exception is not handled in a program, it leads to an abrupt termination of the program and an error message is displayed, indicating the type of exception that occurred and the corresponding traceback."
   ]
  },
  {
   "cell_type": "code",
   "execution_count": 3,
   "id": "a7658294-c53f-4d79-a8b5-fd06cafc2994",
   "metadata": {},
   "outputs": [
    {
     "ename": "ZeroDivisionError",
     "evalue": "division by zero",
     "output_type": "error",
     "traceback": [
      "\u001b[0;31m---------------------------------------------------------------------------\u001b[0m",
      "\u001b[0;31mZeroDivisionError\u001b[0m                         Traceback (most recent call last)",
      "Cell \u001b[0;32mIn[3], line 8\u001b[0m\n\u001b[1;32m      5\u001b[0m num1 \u001b[38;5;241m=\u001b[39m \u001b[38;5;241m10\u001b[39m\n\u001b[1;32m      6\u001b[0m num2 \u001b[38;5;241m=\u001b[39m \u001b[38;5;241m0\u001b[39m\n\u001b[0;32m----> 8\u001b[0m result \u001b[38;5;241m=\u001b[39m \u001b[43mdivide\u001b[49m\u001b[43m(\u001b[49m\u001b[43mnum1\u001b[49m\u001b[43m,\u001b[49m\u001b[43m \u001b[49m\u001b[43mnum2\u001b[49m\u001b[43m)\u001b[49m\n\u001b[1;32m      9\u001b[0m \u001b[38;5;28mprint\u001b[39m(\u001b[38;5;124m\"\u001b[39m\u001b[38;5;124mResult:\u001b[39m\u001b[38;5;124m\"\u001b[39m, result)\n",
      "Cell \u001b[0;32mIn[3], line 2\u001b[0m, in \u001b[0;36mdivide\u001b[0;34m(a, b)\u001b[0m\n\u001b[1;32m      1\u001b[0m \u001b[38;5;28;01mdef\u001b[39;00m \u001b[38;5;21mdivide\u001b[39m(a, b):\n\u001b[0;32m----> 2\u001b[0m     result \u001b[38;5;241m=\u001b[39m \u001b[43ma\u001b[49m\u001b[43m \u001b[49m\u001b[38;5;241;43m/\u001b[39;49m\u001b[43m \u001b[49m\u001b[43mb\u001b[49m\n\u001b[1;32m      3\u001b[0m     \u001b[38;5;28;01mreturn\u001b[39;00m result\n",
      "\u001b[0;31mZeroDivisionError\u001b[0m: division by zero"
     ]
    }
   ],
   "source": [
    "def divide(a, b):\n",
    "    result = a / b\n",
    "    return result\n",
    "\n",
    "num1 = 10\n",
    "num2 = 0\n",
    "\n",
    "result = divide(num1, num2)\n",
    "print(\"Result:\", result)\n"
   ]
  },
  {
   "cell_type": "markdown",
   "id": "6fd8e448-fb98-4185-8bf7-72b7c9b10581",
   "metadata": {},
   "source": [
    "n this example, the divide() function attempts to divide num1 by num2. However, num2 is assigned a value of zero, which raises a ZeroDivisionError exception because dividing by zero is mathematically undefine"
   ]
  },
  {
   "cell_type": "markdown",
   "id": "ac3f717d-9e5f-4c90-859b-2c7bfbbdccc3",
   "metadata": {},
   "source": [
    "Q3. Which Python statements are used to catch and handle exceptions? Explain with an example."
   ]
  },
  {
   "cell_type": "markdown",
   "id": "16dbb33c-15ba-4dcf-87d5-940231d0a439",
   "metadata": {},
   "source": [
    "---> \n",
    "In Python, the try and except statements are used to catch and handle exceptions. The try block is used to enclose the code that may raise an exception, and the except block is used to define the code that should be executed when a specific exception occurs."
   ]
  },
  {
   "cell_type": "code",
   "execution_count": 5,
   "id": "923dec88-a7b0-4067-a323-402b5ed939df",
   "metadata": {},
   "outputs": [
    {
     "name": "stdout",
     "output_type": "stream",
     "text": [
      "Error: Division by zero is not allowed.\n"
     ]
    }
   ],
   "source": [
    "def divide(a, b):\n",
    "    try:\n",
    "        result = a / b\n",
    "        print(\"Result:\", result)\n",
    "    except ZeroDivisionError:\n",
    "        print(\"Error: Division by zero is not allowed.\")\n",
    "\n",
    "num1 = 10\n",
    "num2 = 0\n",
    "\n",
    "divide(num1, num2)\n"
   ]
  },
  {
   "cell_type": "markdown",
   "id": "d5b5c729-b6dc-4da5-a7d5-6d111fb9007d",
   "metadata": {},
   "source": [
    "Q4. Explain with an example :\n",
    "    a.try and else \n",
    "    b.finally\n",
    "    c.raise"
   ]
  },
  {
   "cell_type": "code",
   "execution_count": 6,
   "id": "31686fcf-b8c9-4346-b3d0-f503c0331e6d",
   "metadata": {},
   "outputs": [
    {
     "name": "stdout",
     "output_type": "stream",
     "text": [
      "Result: 2.0\n"
     ]
    }
   ],
   "source": [
    "def divide(a, b):\n",
    "    try:\n",
    "        result = a / b\n",
    "    except ZeroDivisionError:\n",
    "        print(\"Error: Division by zero is not allowed.\")\n",
    "    else:\n",
    "        print(\"Result:\", result)\n",
    "\n",
    "num1 = 10\n",
    "num2 = 5\n",
    "\n",
    "divide(num1, num2)\n"
   ]
  },
  {
   "cell_type": "markdown",
   "id": "578b2612-d922-4a04-b4f9-d543d55f27b4",
   "metadata": {},
   "source": [
    "in this example, the try block attempts to divide num1 by num2. If a ZeroDivisionError occurs, the code within the except block is executed and the error message is displayed. However, if no exception occurs, the code within the else block is executed, and the result is printed."
   ]
  },
  {
   "cell_type": "markdown",
   "id": "718907e6-5a7d-44c1-9146-6b64744dd72f",
   "metadata": {},
   "source": [
    "b. Example with finally:"
   ]
  },
  {
   "cell_type": "code",
   "execution_count": 7,
   "id": "fb74e029-a1c3-4c12-832c-f82c0dc9b514",
   "metadata": {},
   "outputs": [
    {
     "name": "stdout",
     "output_type": "stream",
     "text": [
      "File operation completed.\n"
     ]
    }
   ],
   "source": [
    "file = None\n",
    "try:\n",
    "    file = open(\"example.txt\", \"r\")\n",
    "    \n",
    "except FileNotFoundError:\n",
    "    print(\"Error: File not found.\")\n",
    "finally:\n",
    "    if file:\n",
    "        file.close()\n",
    "    print(\"File operation completed.\")\n",
    "\n"
   ]
  },
  {
   "cell_type": "markdown",
   "id": "eee0c302-5502-4dfd-afa9-fbbcfb49d86d",
   "metadata": {},
   "source": [
    "In this example, the try block attempts to open a file named \"example.txt\" for reading. If a FileNotFoundError occurs, the code within the except block is executed, displaying an error message."
   ]
  },
  {
   "cell_type": "markdown",
   "id": "9a83388e-bf8f-4215-81cc-6a797401e39a",
   "metadata": {},
   "source": [
    "c. Example with raise:"
   ]
  },
  {
   "cell_type": "code",
   "execution_count": 9,
   "id": "e3991242-a174-418c-8fe0-c17f71d09d87",
   "metadata": {},
   "outputs": [
    {
     "name": "stdout",
     "output_type": "stream",
     "text": [
      "Age is valid.\n"
     ]
    }
   ],
   "source": [
    "def validate_age(age):\n",
    "    if age < 0:\n",
    "        raise ValueError(\"Invalid age: Age cannot be negative.\")\n",
    "    elif age < 18:\n",
    "        raise ValueError(\"Invalid age: Age must be at least 18.\")\n",
    "    else:\n",
    "        print(\"Age is valid.\")\n",
    "\n",
    "try:\n",
    "    validate_age(25)\n",
    "except ValueError as e:\n",
    "    print(str(e))\n"
   ]
  },
  {
   "cell_type": "markdown",
   "id": "065a7384-4339-4a3b-8130-c664ffe70828",
   "metadata": {},
   "source": [
    "in this example, the validate_age() function is used to validate an age value. If the age is negative or less than 18, a ValueError is raised with an appropriate error message"
   ]
  },
  {
   "cell_type": "markdown",
   "id": "9b83034a-16db-44cb-890d-e3268b997f0d",
   "metadata": {},
   "source": [
    "Q5. What are Custom Exception in python? Why do we need Custom Exceptions? Explain with an example"
   ]
  },
  {
   "cell_type": "markdown",
   "id": "9407df9b-5ce8-4ec7-8b99-afe9ae002ba1",
   "metadata": {},
   "source": [
    "Custom exceptions in Python are user-defined exceptions that extend the base Exception class or any of its subclasses. These exceptions are created to handle specific error conditions that are not covered by the built-in exception classes in Python They allow programmers to define their own error types and provide more meaningful and specific information about the exceptional conditions occurring in their programs."
   ]
  }
 ],
 "metadata": {
  "kernelspec": {
   "display_name": "Python 3 (ipykernel)",
   "language": "python",
   "name": "python3"
  },
  "language_info": {
   "codemirror_mode": {
    "name": "ipython",
    "version": 3
   },
   "file_extension": ".py",
   "mimetype": "text/x-python",
   "name": "python",
   "nbconvert_exporter": "python",
   "pygments_lexer": "ipython3",
   "version": "3.10.8"
  }
 },
 "nbformat": 4,
 "nbformat_minor": 5
}
