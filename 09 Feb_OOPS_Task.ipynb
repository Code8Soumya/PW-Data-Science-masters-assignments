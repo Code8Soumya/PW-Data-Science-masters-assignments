{
 "cells": [
  {
   "cell_type": "markdown",
   "id": "f5ea2baa-dbb8-4a8e-b4eb-50f3a014821a",
   "metadata": {},
   "source": [
    "Q1, Create a vehicle class with an init method having instance variables as name_of_vehicle, max_speed\n",
    "and average_of_vehicle."
   ]
  },
  {
   "cell_type": "code",
   "execution_count": 38,
   "id": "35d5c742-dc23-47a3-b640-4549d3f1c4a7",
   "metadata": {},
   "outputs": [],
   "source": [
    "class vehicle:\n",
    "    \n",
    "    def __init__(self,name_of_vehicle,max_speed,average_of_vehicle):\n",
    "        self.name_of_vehicle = name_of_vehicle\n",
    "        self.max_speed = max_speed\n",
    "        self.average_of_vehicle = average_of_vehicle\n",
    "    "
   ]
  },
  {
   "cell_type": "code",
   "execution_count": 39,
   "id": "13618d64-2963-4938-aa3d-53cf3e3b9590",
   "metadata": {},
   "outputs": [],
   "source": [
    "car = vehicle(\"car\" ,200 ,30)"
   ]
  },
  {
   "cell_type": "code",
   "execution_count": 40,
   "id": "98e88562-8545-451f-b6e5-770b2ddb871b",
   "metadata": {},
   "outputs": [
    {
     "data": {
      "text/plain": [
       "'car'"
      ]
     },
     "execution_count": 40,
     "metadata": {},
     "output_type": "execute_result"
    }
   ],
   "source": [
    "car.name_of_vehicle"
   ]
  },
  {
   "cell_type": "code",
   "execution_count": 41,
   "id": "fa4ba75f-e037-4509-bf9c-57b416023fe3",
   "metadata": {},
   "outputs": [
    {
     "data": {
      "text/plain": [
       "200"
      ]
     },
     "execution_count": 41,
     "metadata": {},
     "output_type": "execute_result"
    }
   ],
   "source": [
    "car.max_speed"
   ]
  },
  {
   "cell_type": "code",
   "execution_count": 42,
   "id": "750dae13-158d-4283-9aae-c75660aface3",
   "metadata": {},
   "outputs": [
    {
     "data": {
      "text/plain": [
       "30"
      ]
     },
     "execution_count": 42,
     "metadata": {},
     "output_type": "execute_result"
    }
   ],
   "source": [
    "car.average_of_vehicle"
   ]
  },
  {
   "cell_type": "markdown",
   "id": "255e72f4-9587-46cd-9f01-91a4a18f3db4",
   "metadata": {},
   "source": [
    "Q2. Create a child class car from the vehicle class created in Que 1, which will inherit the vehicle class.\n",
    "Create a method named seating_capacity which takes capacity as an argument and returns the name of\n",
    "the vehicle and its seating capacity.\n"
   ]
  },
  {
   "cell_type": "code",
   "execution_count": 52,
   "id": "56b228e4-8255-499b-904f-081ccac41aa4",
   "metadata": {},
   "outputs": [],
   "source": [
    "class Car(vehicle) :\n",
    "    \n",
    "    def searting_capacity(self,capacity):\n",
    "        return f\"{self.name_of_vehicle} has a seating capacity of {capacity} people.\"\n"
   ]
  },
  {
   "cell_type": "code",
   "execution_count": 56,
   "id": "30de537e-fa43-4ed5-959e-5f947b3b3b41",
   "metadata": {},
   "outputs": [
    {
     "data": {
      "text/plain": [
       "'fortuner has a seating capacity of 8 people.'"
      ]
     },
     "execution_count": 56,
     "metadata": {},
     "output_type": "execute_result"
    }
   ],
   "source": [
    "car = Car('fortuner',20,30)\n",
    "car.searting_capacity(8)"
   ]
  },
  {
   "cell_type": "markdown",
   "id": "816fc8b6-8243-494a-a23b-fb5a68074426",
   "metadata": {},
   "source": [
    "Q3. What is multiple inheritance? Write a python code to demonstrate multiple inheritance.\n"
   ]
  },
  {
   "cell_type": "markdown",
   "id": "ac5e3b03-530b-4fbb-b642-ac536c6dcee6",
   "metadata": {},
   "source": [
    "---> Multiple inheritance is a feature in object-oriented programming where a class can inherit attributes and methods from more than one parent class. This allows a derived class to have characteristics and behaviors from multiple source classes."
   ]
  },
  {
   "cell_type": "code",
   "execution_count": 57,
   "id": "8c97fa29-cce3-4eea-a1a9-b24178b1240f",
   "metadata": {},
   "outputs": [
    {
     "name": "stdout",
     "output_type": "stream",
     "text": [
      "SkyCar is being driven.\n",
      "SkyCar is flying.\n"
     ]
    }
   ],
   "source": [
    "''' an example code that demonstrates multiple inheritance in Python '''\n",
    "class Vehicle:\n",
    "    def __init__(self, name):\n",
    "        self.name = name\n",
    "\n",
    "    def drive(self):\n",
    "        print(f\"{self.name} is being driven.\")\n",
    "\n",
    "class FlyingVehicle:\n",
    "    def fly(self):\n",
    "        print(f\"{self.name} is flying.\")\n",
    "\n",
    "class Car(Vehicle):\n",
    "    def __init__(self, name):\n",
    "        super().__init__(name)\n",
    "\n",
    "class FlyingCar(Car, FlyingVehicle):\n",
    "    def __init__(self, name):\n",
    "        super().__init__(name)\n",
    "\n",
    "car = FlyingCar(\"SkyCar\")\n",
    "car.drive()\n",
    "car.fly()\n"
   ]
  },
  {
   "cell_type": "markdown",
   "id": "0a0c8818-4b8e-44f1-a685-a411852ff5d2",
   "metadata": {},
   "source": [
    "Q4. What are getter and setter in python? Create a class and create a getter and a setter method in this\n",
    "class."
   ]
  },
  {
   "cell_type": "markdown",
   "id": "0854a9e2-78ff-43f8-8e1f-fb324d4db8b3",
   "metadata": {},
   "source": [
    "---> Getters and setters are methods used to access and modify the attributes (variables) of a class, encapsulating them and providing controlled access to them.\n"
   ]
  },
  {
   "cell_type": "code",
   "execution_count": 61,
   "id": "b78970af-0f40-4203-8c94-41c1a379e6a7",
   "metadata": {},
   "outputs": [
    {
     "name": "stdout",
     "output_type": "stream",
     "text": [
      "Sharukh\n",
      "Tiger\n"
     ]
    }
   ],
   "source": [
    "class Person:\n",
    "    def __init__(self, name):\n",
    "        self._name = name \n",
    "\n",
    "    def get_name(self):\n",
    "        return self._name\n",
    "\n",
    "    def set_name(self, new_name):\n",
    "        self._name = new_name\n",
    "\n",
    "\n",
    "person = Person(\"Sharukh\")\n",
    "\n",
    "print(person.get_name())  \n",
    "\n",
    "person.set_name(\"Tiger\")\n",
    "\n",
    "print(person.get_name())  \n"
   ]
  },
  {
   "cell_type": "markdown",
   "id": "e7626f38-2a8e-4305-97b1-1ae0584c8f16",
   "metadata": {},
   "source": [
    "Q5.What is method overriding in python? Write a python code to demonstrate method overriding.\n",
    "\n",
    "---> Method overriding is a concept in object-oriented programming where a subclass provides its own implementation of a method that is already defined in its parent class. This allows the subclass to modify or extend the behavior of the inherited method."
   ]
  },
  {
   "cell_type": "code",
   "execution_count": 63,
   "id": "81f4de9f-ddc9-4223-bdad-ff889a130060",
   "metadata": {},
   "outputs": [
    {
     "name": "stdout",
     "output_type": "stream",
     "text": [
      "Driving the car.\n",
      "Driving the truck.\n"
     ]
    }
   ],
   "source": [
    "class Vehicle:\n",
    "    def drive(self):\n",
    "        print(\"Driving the vehicle.\")\n",
    "\n",
    "class Car(Vehicle):\n",
    "    def drive(self):\n",
    "        print(\"Driving the car.\")\n",
    "\n",
    "class Truck(Vehicle):\n",
    "    def drive(self):\n",
    "        print(\"Driving the truck.\")\n",
    "\n",
    "car = Car()\n",
    "truck = Truck()\n",
    "\n",
    "car.drive()  \n",
    "truck.drive() \n"
   ]
  },
  {
   "cell_type": "code",
   "execution_count": null,
   "id": "c9efea72-ebb2-49c1-b9bc-e3ebcbf149e4",
   "metadata": {},
   "outputs": [],
   "source": []
  }
 ],
 "metadata": {
  "kernelspec": {
   "display_name": "Python 3 (ipykernel)",
   "language": "python",
   "name": "python3"
  },
  "language_info": {
   "codemirror_mode": {
    "name": "ipython",
    "version": 3
   },
   "file_extension": ".py",
   "mimetype": "text/x-python",
   "name": "python",
   "nbconvert_exporter": "python",
   "pygments_lexer": "ipython3",
   "version": "3.10.8"
  }
 },
 "nbformat": 4,
 "nbformat_minor": 5
}
