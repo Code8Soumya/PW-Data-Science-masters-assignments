{
 "cells": [
  {
   "cell_type": "markdown",
   "id": "8079df1c-84b6-4aa4-bef4-59ee5fda8a9e",
   "metadata": {},
   "source": [
    "Q1. Which keyword is used to create a function? Create a function to return a list of odd numbers in the\n",
    "range of 1 to 25."
   ]
  },
  {
   "cell_type": "markdown",
   "id": "5254cc0b-f315-4165-a004-d7abca766964",
   "metadata": {},
   "source": [
    "---> The keyword is used to create a function in python is def\n"
   ]
  },
  {
   "cell_type": "code",
   "execution_count": 2,
   "id": "c70f0171-e138-461d-9a1a-1283b8bc74d0",
   "metadata": {},
   "outputs": [],
   "source": [
    "'''an example of function that returns a list of odd numbers in the range of 1 to 25'''\n",
    "def get_odd_number():\n",
    "    odd_numbers = []\n",
    "    for num in range(1,26):\n",
    "        if num % 2 != 0:\n",
    "            odd_numbers.append(num)\n",
    "    return odd_numbers"
   ]
  },
  {
   "cell_type": "code",
   "execution_count": 3,
   "id": "155a55a9-1769-4699-a1af-86198832aadb",
   "metadata": {},
   "outputs": [
    {
     "data": {
      "text/plain": [
       "[1, 3, 5, 7, 9, 11, 13, 15, 17, 19, 21, 23, 25]"
      ]
     },
     "execution_count": 3,
     "metadata": {},
     "output_type": "execute_result"
    }
   ],
   "source": [
    "get_odd_number()"
   ]
  },
  {
   "cell_type": "markdown",
   "id": "b225866e-bd82-4b6f-868c-d1e50b0d43f8",
   "metadata": {},
   "source": [
    "Q2. Why *args and **kwargs is used in some functions? Create a function each for *args and **kwargs\n",
    "to demonstrate their use."
   ]
  },
  {
   "cell_type": "markdown",
   "id": "fe8a4164-f036-4248-993a-456a8cec946e",
   "metadata": {},
   "source": [
    "---> * args and **kwags are used in functions to allow them to acept an arbitrary number of arguments or keyword arguments respectively\n",
    "     *args is used to pass a variable number of arguments to a function.it allows us to pass any number of positional arguments to a function.The arguments are passed as a tuple.\n",
    "     "
   ]
  },
  {
   "cell_type": "code",
   "execution_count": 1,
   "id": "12185da9-2432-4366-a1f5-5152cd004747",
   "metadata": {},
   "outputs": [],
   "source": [
    "'''an example of function that used *args to return a list of odd numbers within a given range'''\n",
    "def odd_numbers(*args):\n",
    "    start, end = args\n",
    "    return [num for num in range(start,end+1) if num % 2 != 0]"
   ]
  },
  {
   "cell_type": "code",
   "execution_count": 10,
   "id": "6442f3e3-9b27-426b-8825-62f90d769ba9",
   "metadata": {},
   "outputs": [
    {
     "data": {
      "text/plain": [
       "[1, 3, 5, 7, 9, 11, 13, 15, 17, 19, 21, 23, 25, 27, 29]"
      ]
     },
     "execution_count": 10,
     "metadata": {},
     "output_type": "execute_result"
    }
   ],
   "source": [
    "odd_numbers(1,30)"
   ]
  },
  {
   "cell_type": "raw",
   "id": "6f8ebe2e-23cf-4932-bfc7-2774681205c9",
   "metadata": {},
   "source": [
    "-----> **kwargs is used to pass a variable number of keyword arguments to a function. it allows us to pass any number of named arguments to a function.The arguments are passed as a        dictionary\n"
   ]
  },
  {
   "cell_type": "code",
   "execution_count": 16,
   "id": "e17212cc-504a-4ed7-aa5e-e1b8013b78d7",
   "metadata": {},
   "outputs": [],
   "source": [
    "''''an example of function that uses **kwargs to print the key value pairs of a dictionary'''\n",
    "def print_dict(**kwargs):\n",
    "    for key,value in kwargs.items():\n",
    "        print(f\"{key}:{value}\")"
   ]
  },
  {
   "cell_type": "code",
   "execution_count": 17,
   "id": "06af9f79-1aa1-47e9-9844-7ae719b5d2a6",
   "metadata": {},
   "outputs": [
    {
     "name": "stdout",
     "output_type": "stream",
     "text": [
      "name:shaikh\n",
      "age:20\n",
      "city:delhi\n"
     ]
    }
   ],
   "source": [
    "print_dict(name='shaikh', age=20, city='delhi')"
   ]
  },
  {
   "cell_type": "markdown",
   "id": "92c6c543-5bba-46ad-9aad-bf6baa07dfc1",
   "metadata": {},
   "source": [
    "Q3. What is an iterator in python? Name the method used to initialise the iterator object and the method\n",
    "used for iteration. Use these methods to print the first five elements of the given list [2, 4, 6, 8, 10, 12, 14,\n",
    "16, 18, 20].\n"
   ]
  },
  {
   "cell_type": "raw",
   "id": "a7efee4c-aeea-4960-ba2e-52883f115d67",
   "metadata": {},
   "source": [
    "---> An iterator is an object that can be iterated(looped) upon.it is used to represent a stream of data. Am iterator object in python can be crated by implementing the --iter--() and --next--() methods in a class"
   ]
  },
  {
   "cell_type": "code",
   "execution_count": 1,
   "id": "4efb120e-f4cf-4fcc-ac66-a688b36877d4",
   "metadata": {},
   "outputs": [
    {
     "name": "stdout",
     "output_type": "stream",
     "text": [
      "2\n",
      "4\n",
      "6\n",
      "8\n",
      "10\n"
     ]
    }
   ],
   "source": [
    "''' To print the first five elements of the given list[2,4,6,8,10,12,14,16,18,20] we can create an iterator object using the iter() function and then use the next() function to iterate over the first five elements'''\n",
    "l = [2,4,6,8,10,12,14,16,18,20]\n",
    "\n",
    "iterator_obj= iter(l)\n",
    "for i in range(5):\n",
    "    print(next(iterator_obj))"
   ]
  },
  {
   "cell_type": "markdown",
   "id": "68aafc04-bea4-4a68-b39d-4c8cc9f9e05a",
   "metadata": {},
   "source": [
    "Q4. Write a python program using reduce function to compute the product of a list containing numbers\n",
    "from 1 to 25."
   ]
  },
  {
   "cell_type": "code",
   "execution_count": 5,
   "id": "523505c3-b94f-43e6-a85d-22616470074f",
   "metadata": {},
   "outputs": [
    {
     "name": "stdout",
     "output_type": "stream",
     "text": [
      "Product of numbers from 1 to 25: 15511210043330985984000000\n"
     ]
    }
   ],
   "source": [
    "from functools import reduce\n",
    "numbers= list(range(1,26))\n",
    "multiply = lambda x,y:x*y\n",
    "Product = reduce(multiply,numbers)\n",
    "print(\"Product of numbers from 1 to 25:\",Product)"
   ]
  },
  {
   "cell_type": "markdown",
   "id": "96bae0a7-36df-4872-9887-31a42904ea80",
   "metadata": {},
   "source": [
    "Q5. Write a python program to filter the numbers in a given list that are divisible by 2 and 3 using the\n",
    "filter function.\n",
    "[2, 3, 6, 9, 27, 60, 90, 120, 55, 46]\n",
    "\n"
   ]
  },
  {
   "cell_type": "code",
   "execution_count": 17,
   "id": "f1c1cd4c-1ad2-4c97-afa3-30552bb86c8d",
   "metadata": {},
   "outputs": [
    {
     "name": "stdout",
     "output_type": "stream",
     "text": [
      "[6, 60, 90, 120]\n"
     ]
    }
   ],
   "source": [
    "my_list = [2,3,6,9,27,60,90,120,55,46]\n",
    "filtered_lst = list(filter(lambda x: (x % 2 == 0) and (x % 3 == 0),my_list))\n",
    "print(filtered_lst)"
   ]
  },
  {
   "cell_type": "markdown",
   "id": "6b916569-bce4-4b09-ac98-49807a8896c3",
   "metadata": {},
   "source": [
    "Q6. Write a python program to find palindromes in the given list of strings using lambda and filter\n",
    "function.\n",
    "['python', 'php', 'aba', 'radar', 'level']"
   ]
  },
  {
   "cell_type": "code",
   "execution_count": 18,
   "id": "44a53a4c-7c38-4aa8-a16d-83d5ee339117",
   "metadata": {},
   "outputs": [
    {
     "name": "stdout",
     "output_type": "stream",
     "text": [
      "['php', 'aba', 'radar', 'level']\n"
     ]
    }
   ],
   "source": [
    "strings = ['python', 'php', 'aba', 'radar', 'level']\n",
    "\n",
    "palindromes = list(filter(lambda string: string == string[::-1], strings))\n",
    "\n",
    "print(palindromes)\n"
   ]
  },
  {
   "cell_type": "code",
   "execution_count": null,
   "id": "db31c97f-625d-481a-af30-c99145c49afd",
   "metadata": {},
   "outputs": [],
   "source": []
  }
 ],
 "metadata": {
  "kernelspec": {
   "display_name": "Python 3 (ipykernel)",
   "language": "python",
   "name": "python3"
  },
  "language_info": {
   "codemirror_mode": {
    "name": "ipython",
    "version": 3
   },
   "file_extension": ".py",
   "mimetype": "text/x-python",
   "name": "python",
   "nbconvert_exporter": "python",
   "pygments_lexer": "ipython3",
   "version": "3.10.8"
  }
 },
 "nbformat": 4,
 "nbformat_minor": 5
}
